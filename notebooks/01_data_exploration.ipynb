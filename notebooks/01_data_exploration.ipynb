{
 "cells": [
  {
   "cell_type": "code",
   "execution_count": 1,
   "id": "fd3c144b",
   "metadata": {},
   "outputs": [],
   "source": [
    "import pandas as pd\n",
    "import numpy as np\n",
    "import matplotlib.pyplot as plt\n",
    "from pathlib import Path\n",
    "import os"
   ]
  },
  {
   "cell_type": "code",
   "execution_count": 2,
   "id": "a8b45da9",
   "metadata": {},
   "outputs": [],
   "source": [
    "# change the path to the parent directory of the current file\n",
    "current_dir = os.getcwd()\n",
    "project_dir = os.path.abspath(os.path.join(current_dir, os.pardir))\n",
    "os.chdir(project_dir)"
   ]
  },
  {
   "cell_type": "code",
   "execution_count": 3,
   "id": "8e537fd2",
   "metadata": {},
   "outputs": [
    {
     "data": {
      "text/plain": [
       "'/Users/juliancanalez/Library/Mobile Documents/com~apple~CloudDocs/Post Grad/fantasy-rl-draft'"
      ]
     },
     "execution_count": 3,
     "metadata": {},
     "output_type": "execute_result"
    }
   ],
   "source": [
    "os.getcwd()"
   ]
  },
  {
   "cell_type": "code",
   "execution_count": 12,
   "id": "e82801fe",
   "metadata": {},
   "outputs": [],
   "source": [
    "# Load 2023 data as example\n",
    "adp_2023 = pd.read_csv('data/raw/adp/adp_2023.csv')\n",
    "stats_2023 = pd.read_csv('data/raw/stats/stats_2023.csv')"
   ]
  },
  {
   "cell_type": "markdown",
   "id": "5e3c6eee",
   "metadata": {},
   "source": [
    "the data import is unclean - needed to manually solve an error where some names with apostraphes caused the sources parsing tool to mess up — need to clean all the rest now. "
   ]
  },
  {
   "cell_type": "code",
   "execution_count": 22,
   "id": "c0ecfd29",
   "metadata": {},
   "outputs": [],
   "source": [
    "adp_2021 = pd.read_csv('data/raw/adp/adp_2021.csv')\n",
    "stats_2021 = pd.read_csv('data/raw/stats/stats_2021.csv')"
   ]
  },
  {
   "cell_type": "code",
   "execution_count": 25,
   "id": "fa6008ce",
   "metadata": {},
   "outputs": [],
   "source": [
    "adp_2022 = pd.read_csv('data/raw/adp/adp_2022.csv')\n",
    "stats_2022 = pd.read_csv('data/raw/stats/stats_2022.csv')"
   ]
  },
  {
   "cell_type": "code",
   "execution_count": 27,
   "id": "407cdf7b",
   "metadata": {},
   "outputs": [],
   "source": [
    "adp_2024 = pd.read_csv('data/raw/adp/adp_2024.csv')\n",
    "stats_2024 = pd.read_csv('data/raw/stats/stats_2024.csv')"
   ]
  },
  {
   "cell_type": "code",
   "execution_count": 28,
   "id": "bd3b9cca",
   "metadata": {},
   "outputs": [],
   "source": [
    "adp_2025 = pd.read_csv('data/raw/adp/adp_2025.csv')"
   ]
  },
  {
   "cell_type": "markdown",
   "id": "3eb8421e",
   "metadata": {},
   "source": [
    "cleaned up that issue - we can do some brief exploratory data analysis now"
   ]
  },
  {
   "cell_type": "code",
   "execution_count": 29,
   "id": "54938936",
   "metadata": {},
   "outputs": [
    {
     "name": "stdout",
     "output_type": "stream",
     "text": [
      "ADP Data Shape: (596, 11)\n",
      "\n",
      "ADP Columns: ['Rank', 'Player', 'Team', 'Bye', 'POS', 'ESPN', 'Sleeper', 'NFL', 'RTSports', 'FFC', 'AVG']\n",
      "\n",
      "First 5 rows:\n"
     ]
    },
    {
     "data": {
      "application/vnd.microsoft.datawrangler.viewer.v0+json": {
       "columns": [
        {
         "name": "index",
         "rawType": "int64",
         "type": "integer"
        },
        {
         "name": "Rank",
         "rawType": "float64",
         "type": "float"
        },
        {
         "name": "Player",
         "rawType": "object",
         "type": "string"
        },
        {
         "name": "Team",
         "rawType": "object",
         "type": "string"
        },
        {
         "name": "Bye",
         "rawType": "object",
         "type": "string"
        },
        {
         "name": "POS",
         "rawType": "object",
         "type": "string"
        },
        {
         "name": "ESPN",
         "rawType": "float64",
         "type": "float"
        },
        {
         "name": "Sleeper",
         "rawType": "float64",
         "type": "float"
        },
        {
         "name": "NFL",
         "rawType": "float64",
         "type": "float"
        },
        {
         "name": "RTSports",
         "rawType": "float64",
         "type": "float"
        },
        {
         "name": "FFC",
         "rawType": "float64",
         "type": "float"
        },
        {
         "name": "AVG",
         "rawType": "float64",
         "type": "float"
        }
       ],
       "ref": "0b144baa-d67e-409c-ae49-dd9e3837f144",
       "rows": [
        [
         "0",
         "1.0",
         "Justin Jefferson",
         "MIN",
         "13",
         "WR1",
         "1.0",
         "1.0",
         "1.0",
         "1.0",
         null,
         "1.0"
        ],
        [
         "1",
         "2.0",
         "Christian McCaffrey",
         "SF",
         "9",
         "RB1",
         "3.0",
         "2.0",
         "2.0",
         "2.0",
         null,
         "2.3"
        ],
        [
         "2",
         "3.0",
         "Ja'Marr Chase",
         "CIN",
         "7",
         "WR2",
         "2.0",
         "3.0",
         "4.0",
         "3.0",
         null,
         "3.0"
        ],
        [
         "3",
         "4.0",
         "Austin Ekeler",
         "WAS",
         "14",
         "RB2",
         "4.0",
         "4.0",
         "3.0",
         "4.0",
         null,
         "3.8"
        ],
        [
         "4",
         "5.0",
         "Travis Kelce",
         "KC",
         "10",
         "TE1",
         "5.0",
         "5.0",
         "6.0",
         "7.0",
         null,
         "5.8"
        ]
       ],
       "shape": {
        "columns": 11,
        "rows": 5
       }
      },
      "text/html": [
       "<div>\n",
       "<style scoped>\n",
       "    .dataframe tbody tr th:only-of-type {\n",
       "        vertical-align: middle;\n",
       "    }\n",
       "\n",
       "    .dataframe tbody tr th {\n",
       "        vertical-align: top;\n",
       "    }\n",
       "\n",
       "    .dataframe thead th {\n",
       "        text-align: right;\n",
       "    }\n",
       "</style>\n",
       "<table border=\"1\" class=\"dataframe\">\n",
       "  <thead>\n",
       "    <tr style=\"text-align: right;\">\n",
       "      <th></th>\n",
       "      <th>Rank</th>\n",
       "      <th>Player</th>\n",
       "      <th>Team</th>\n",
       "      <th>Bye</th>\n",
       "      <th>POS</th>\n",
       "      <th>ESPN</th>\n",
       "      <th>Sleeper</th>\n",
       "      <th>NFL</th>\n",
       "      <th>RTSports</th>\n",
       "      <th>FFC</th>\n",
       "      <th>AVG</th>\n",
       "    </tr>\n",
       "  </thead>\n",
       "  <tbody>\n",
       "    <tr>\n",
       "      <th>0</th>\n",
       "      <td>1.0</td>\n",
       "      <td>Justin Jefferson</td>\n",
       "      <td>MIN</td>\n",
       "      <td>13</td>\n",
       "      <td>WR1</td>\n",
       "      <td>1.0</td>\n",
       "      <td>1.0</td>\n",
       "      <td>1.0</td>\n",
       "      <td>1.0</td>\n",
       "      <td>NaN</td>\n",
       "      <td>1.0</td>\n",
       "    </tr>\n",
       "    <tr>\n",
       "      <th>1</th>\n",
       "      <td>2.0</td>\n",
       "      <td>Christian McCaffrey</td>\n",
       "      <td>SF</td>\n",
       "      <td>9</td>\n",
       "      <td>RB1</td>\n",
       "      <td>3.0</td>\n",
       "      <td>2.0</td>\n",
       "      <td>2.0</td>\n",
       "      <td>2.0</td>\n",
       "      <td>NaN</td>\n",
       "      <td>2.3</td>\n",
       "    </tr>\n",
       "    <tr>\n",
       "      <th>2</th>\n",
       "      <td>3.0</td>\n",
       "      <td>Ja'Marr Chase</td>\n",
       "      <td>CIN</td>\n",
       "      <td>7</td>\n",
       "      <td>WR2</td>\n",
       "      <td>2.0</td>\n",
       "      <td>3.0</td>\n",
       "      <td>4.0</td>\n",
       "      <td>3.0</td>\n",
       "      <td>NaN</td>\n",
       "      <td>3.0</td>\n",
       "    </tr>\n",
       "    <tr>\n",
       "      <th>3</th>\n",
       "      <td>4.0</td>\n",
       "      <td>Austin Ekeler</td>\n",
       "      <td>WAS</td>\n",
       "      <td>14</td>\n",
       "      <td>RB2</td>\n",
       "      <td>4.0</td>\n",
       "      <td>4.0</td>\n",
       "      <td>3.0</td>\n",
       "      <td>4.0</td>\n",
       "      <td>NaN</td>\n",
       "      <td>3.8</td>\n",
       "    </tr>\n",
       "    <tr>\n",
       "      <th>4</th>\n",
       "      <td>5.0</td>\n",
       "      <td>Travis Kelce</td>\n",
       "      <td>KC</td>\n",
       "      <td>10</td>\n",
       "      <td>TE1</td>\n",
       "      <td>5.0</td>\n",
       "      <td>5.0</td>\n",
       "      <td>6.0</td>\n",
       "      <td>7.0</td>\n",
       "      <td>NaN</td>\n",
       "      <td>5.8</td>\n",
       "    </tr>\n",
       "  </tbody>\n",
       "</table>\n",
       "</div>"
      ],
      "text/plain": [
       "   Rank               Player Team Bye  POS  ESPN  Sleeper  NFL  RTSports  FFC  \\\n",
       "0   1.0     Justin Jefferson  MIN  13  WR1   1.0      1.0  1.0       1.0  NaN   \n",
       "1   2.0  Christian McCaffrey   SF   9  RB1   3.0      2.0  2.0       2.0  NaN   \n",
       "2   3.0        Ja'Marr Chase  CIN   7  WR2   2.0      3.0  4.0       3.0  NaN   \n",
       "3   4.0        Austin Ekeler  WAS  14  RB2   4.0      4.0  3.0       4.0  NaN   \n",
       "4   5.0         Travis Kelce   KC  10  TE1   5.0      5.0  6.0       7.0  NaN   \n",
       "\n",
       "   AVG  \n",
       "0  1.0  \n",
       "1  2.3  \n",
       "2  3.0  \n",
       "3  3.8  \n",
       "4  5.8  "
      ]
     },
     "execution_count": 29,
     "metadata": {},
     "output_type": "execute_result"
    }
   ],
   "source": [
    "print(\"ADP Data Shape:\", adp_2023.shape)\n",
    "print(\"\\nADP Columns:\", adp_2023.columns.tolist())\n",
    "print(\"\\nFirst 5 rows:\")\n",
    "adp_2023.head()"
   ]
  },
  {
   "cell_type": "code",
   "execution_count": 30,
   "id": "4411689a",
   "metadata": {},
   "outputs": [
    {
     "name": "stdout",
     "output_type": "stream",
     "text": [
      "Missing values in ADP: Rank          2\n",
      "Player        2\n",
      "Team        182\n",
      "Bye         186\n",
      "POS           2\n",
      "ESPN         98\n",
      "Sleeper     297\n",
      "NFL         300\n",
      "RTSports    323\n",
      "FFC         596\n",
      "AVG           2\n",
      "dtype: int64\n",
      "\n",
      "Missing values in Stats: Name     0\n",
      "Team     0\n",
      "POS      0\n",
      "PTS      0\n",
      "PTS/G    0\n",
      "GP       0\n",
      "CMP      0\n",
      "YDS      0\n",
      "TD       0\n",
      "INT      0\n",
      "ATT      0\n",
      "YDS.1    0\n",
      "TD.1     0\n",
      "FUM      0\n",
      "TGT      0\n",
      "REC      0\n",
      "YDS.2    0\n",
      "TD.2     0\n",
      "dtype: int64\n"
     ]
    }
   ],
   "source": [
    "print(\"Missing values in ADP:\", adp_2023.isnull().sum())\n",
    "print(\"\\nMissing values in Stats:\", stats_2023.isnull().sum())"
   ]
  },
  {
   "cell_type": "markdown",
   "id": "d463b1f8",
   "metadata": {},
   "source": [
    "Looks like we will definitely have to clean ADP, let's look at the rest of the stats to see if cleaning those are needed"
   ]
  },
  {
   "cell_type": "code",
   "execution_count": 33,
   "id": "189cea47",
   "metadata": {},
   "outputs": [
    {
     "name": "stdout",
     "output_type": "stream",
     "text": [
      "\n",
      "Missing values in Stats: Name     0\n",
      "Team     0\n",
      "POS      0\n",
      "PTS      0\n",
      "PTS/G    0\n",
      "GP       0\n",
      "CMP      0\n",
      "YDS      0\n",
      "TD       0\n",
      "INT      0\n",
      "ATT      0\n",
      "YDS.1    0\n",
      "TD.1     0\n",
      "FUM      0\n",
      "TGT      0\n",
      "REC      0\n",
      "YDS.2    0\n",
      "TD.2     0\n",
      "dtype: int64\n"
     ]
    }
   ],
   "source": [
    "print(\"\\nMissing values in Stats:\", stats_2024.isnull().sum())"
   ]
  },
  {
   "cell_type": "markdown",
   "id": "6bea949c",
   "metadata": {},
   "source": [
    "Stats seem to be clean"
   ]
  }
 ],
 "metadata": {
  "kernelspec": {
   "display_name": "venv",
   "language": "python",
   "name": "python3"
  },
  "language_info": {
   "codemirror_mode": {
    "name": "ipython",
    "version": 3
   },
   "file_extension": ".py",
   "mimetype": "text/x-python",
   "name": "python",
   "nbconvert_exporter": "python",
   "pygments_lexer": "ipython3",
   "version": "3.10.7"
  }
 },
 "nbformat": 4,
 "nbformat_minor": 5
}
